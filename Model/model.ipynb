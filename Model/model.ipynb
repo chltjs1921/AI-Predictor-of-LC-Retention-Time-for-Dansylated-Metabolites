##데이터셋 추리기

import pandas as pd

from sklearn.feature_selection import VarianceThreshold, GenericUnivariateSelect, f_regression

#데이터 입력
df = pd.read_csv("/content/drive/MyDrive/RT_predict/Urine_DnS/Dataset/0607/0607MORDRED2D.csv")

#데이터 분류
dataset = df.values
rawX = dataset[:,0:-1]
Y = dataset[:,-1]

#피처 추리기

selector = VarianceThreshold(threshold=0.001)
X1 = selector.fit_transform(rawX)
#print(X1.shape) #1159개로 줄음

X2 = GenericUnivariateSelect(f_regression, mode='percentile', param=0.5).fit_transform(X1, Y)
#print(X2.shape) # f_regression, mode='percentile', param=20일 시 232개가 됨 // param=10이면 116개 // parma=5면 58 // param=1이면 12개 // param=0.5면 6개 
#f_regression, mode='k_best', param=5일 시 5개가 됨 
#X2
pd.DataFrame(X2).to_csv("/content/drive/MyDrive/RT_predict/Urine_DnS/Dataset/0628MORDRED2D_edit.csv", index=False)
