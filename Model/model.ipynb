##Dataset edit

import pandas as pd

from sklearn.feature_selection import VarianceThreshold, GenericUnivariateSelect, f_regression

#Input data
df = pd.read_csv("./0607MORDRED2D.csv")

#Split dataset X and Y
dataset = df.values
rawX = dataset[:,0:-1]
Y = dataset[:,-1]

#Feature selection

selector = VarianceThreshold(threshold=0.001)
X1 = selector.fit_transform(rawX)
#print(X1.shape) #Reduced by 1159

X2 = GenericUnivariateSelect(f_regression, mode='percentile', param=0.5).fit_transform(X1, Y)
# f_regression, mode='percentile', param=20: Reduced by 232
# f_regression, mode='percentile', param=10: Reduced by 116
pd.DataFrame(X2).to_csv("./MORDRED2D_edit.csv", index=False)
